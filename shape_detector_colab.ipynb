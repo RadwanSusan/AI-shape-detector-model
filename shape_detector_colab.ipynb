{
  "cells": [
    {
      "cell_type": "markdown",
      "metadata": {
        "id": "header"
      },
      "source": [
        "# AI Shape Detector - Google Colab Training\n",
        "\n",
        "This notebook trains a CNN model to detect basic geometric shapes (circle, square, triangle, rectangle) using GPU acceleration.\n",
        "\n",
        "## Setup Instructions:\n",
        "1. **Enable GPU**: Go to `Runtime` → `Change runtime type` → Select `T4 GPU` → Save\n",
        "2. **Run all cells** in order (Ctrl+F9 or Runtime → Run all)\n",
        "3. **Download trained model** at the end\n",
        "\n",
        "---"
      ]
    },
    {
      "cell_type": "markdown",
      "metadata": {
        "id": "setup"
      },
      "source": [
        "## 1. Check GPU Availability"
      ]
    },
    {
      "cell_type": "code",
      "execution_count": null,
      "metadata": {
        "id": "check_gpu"
      },
      "outputs": [],
      "source": [
        "import torch\n",
        "print(f\"PyTorch version: {torch.__version__}\")\n",
        "print(f\"CUDA available: {torch.cuda.is_available()}\")\n",
        "if torch.cuda.is_available():\n",
        "    print(f\"GPU: {torch.cuda.get_device_name(0)}\")\n",
        "    print(f\"GPU Memory: {torch.cuda.get_device_properties(0).total_memory / 1e9:.2f} GB\")\n",
        "else:\n",
        "    print(\"⚠️ GPU not available. Go to Runtime → Change runtime type → Select GPU\")"
      ]
    },
    {
      "cell_type": "markdown",
      "metadata": {
        "id": "clone_repo"
      },
      "source": [
        "## 2. Clone Repository from GitHub"
      ]
    },
    {
      "cell_type": "code",
      "execution_count": null,
      "metadata": {
        "id": "clone"
      },
      "outputs": [],
      "source": [
        "# Clone your GitHub repository\n",
        "!git clone https://github.com/RadwanSusan/AI-shape-detector-model.git\n",
        "%cd AI-shape-detector-model"
      ]
    },
    {
      "cell_type": "markdown",
      "metadata": {
        "id": "install_deps"
      },
      "source": [
        "## 3. Install Dependencies"
      ]
    },
    {
      "cell_type": "code",
      "execution_count": null,
      "metadata": {
        "id": "install"
      },
      "outputs": [],
      "source": [
        "!pip install -q -r requirements.txt\n",
        "print(\"✓ Dependencies installed!\")"
      ]
    },
    {
      "cell_type": "markdown",
      "metadata": {
        "id": "generate_data"
      },
      "source": [
        "## 4. Generate Synthetic Dataset\n",
        "\n",
        "This will create 6,000 shape images (1,500 per class)"
      ]
    },
    {
      "cell_type": "code",
      "execution_count": null,
      "metadata": {
        "id": "gen_data"
      },
      "outputs": [],
      "source": [
        "%cd src\n",
        "!python generate_data.py\n",
        "print(\"\\n✓ Dataset generated!\")"
      ]
    },
    {
      "cell_type": "markdown",
      "metadata": {
        "id": "preview_data"
      },
      "source": [
        "## 5. Preview Sample Images"
      ]
    },
    {
      "cell_type": "code",
      "execution_count": null,
      "metadata": {
        "id": "preview"
      },
      "outputs": [],
      "source": [
        "import matplotlib.pyplot as plt\n",
        "from PIL import Image\n",
        "import os\n",
        "import glob\n",
        "\n",
        "shapes = ['circle', 'square', 'triangle', 'rectangle']\n",
        "fig, axes = plt.subplots(1, 4, figsize=(16, 4))\n",
        "\n",
        "for idx, shape in enumerate(shapes):\n",
        "    # Get first image file from the shape folder\n",
        "    shape_dir = f'data/train/{shape}'\n",
        "    image_files = glob.glob(f'{shape_dir}/*.png')\n",
        "\n",
        "    if image_files:\n",
        "        img_path = image_files[0]  # Use first available image\n",
        "        img = Image.open(img_path)\n",
        "        axes[idx].imshow(img)\n",
        "        axes[idx].set_title(shape.upper(), fontsize=14, fontweight='bold')\n",
        "        axes[idx].axis('off')\n",
        "    else:\n",
        "        print(f\"No images found in {shape_dir}\")\n",
        "\n",
        "plt.tight_layout()\n",
        "plt.show()"
      ]
    },
    {
      "cell_type": "markdown",
      "metadata": {
        "id": "train_model"
      },
      "source": [
        "## 6. Train the Model\n",
        "\n",
        "Training with GPU acceleration (should take 1-3 minutes for 20 epochs)"
      ]
    },
    {
      "cell_type": "code",
      "execution_count": null,
      "metadata": {
        "id": "train"
      },
      "outputs": [],
      "source": [
        "# Train for 20 epochs with GPU\n",
        "!python train.py\n",
        "print(\"\\n✓ Training complete!\")"
      ]
    },
    {
      "cell_type": "markdown",
      "metadata": {
        "id": "view_history"
      },
      "source": [
        "## 7. View Training History"
      ]
    },
    {
      "cell_type": "code",
      "execution_count": null,
      "metadata": {
        "id": "history"
      },
      "outputs": [],
      "source": [
        "from IPython.display import Image as IPImage\n",
        "display(IPImage(filename='results/training_history.png'))"
      ]
    },
    {
      "cell_type": "markdown",
      "metadata": {
        "id": "evaluate_model"
      },
      "source": [
        "## 8. Evaluate Model on Test Set"
      ]
    },
    {
      "cell_type": "code",
      "execution_count": null,
      "metadata": {
        "id": "evaluate"
      },
      "outputs": [],
      "source": [
        "!python evaluate.py"
      ]
    },
    {
      "cell_type": "markdown",
      "metadata": {
        "id": "view_results"
      },
      "source": [
        "## 9. View Evaluation Results"
      ]
    },
    {
      "cell_type": "code",
      "execution_count": null,
      "metadata": {
        "id": "view_confusion"
      },
      "outputs": [],
      "source": [
        "# Display confusion matrix\n",
        "from IPython.display import Image as IPImage\n",
        "print(\"Confusion Matrix:\")\n",
        "display(IPImage(filename='results/confusion_matrix.png'))\n",
        "\n",
        "print(\"\\nSample Predictions:\")\n",
        "display(IPImage(filename='results/sample_predictions.png'))"
      ]
    },
    {
      "cell_type": "markdown",
      "metadata": {
        "id": "test_prediction"
      },
      "source": [
        "## 10. Test Predictions on Custom Images"
      ]
    },
    {
      "cell_type": "code",
      "execution_count": null,
      "metadata": {
        "id": "predict"
      },
      "outputs": [],
      "source": [
        "# Test on a few images from test set\n",
        "!python predict.py --dir data/test/circle --save\n",
        "\n",
        "# Display results\n",
        "from IPython.display import Image as IPImage\n",
        "display(IPImage(filename='results/predictions/batch_predictions.png'))"
      ]
    },
    {
      "cell_type": "markdown",
      "metadata": {
        "id": "upload_custom"
      },
      "source": [
        "## 11. Upload Your Own Image to Test"
      ]
    },
    {
      "cell_type": "code",
      "execution_count": null,
      "metadata": {
        "id": "upload"
      },
      "outputs": [],
      "source": [
        "from google.colab import files\n",
        "import os\n",
        "\n",
        "# Upload an image\n",
        "print(\"Upload an image with a shape (circle, square, triangle, or rectangle):\")\n",
        "uploaded = files.upload()\n",
        "\n",
        "# Get the uploaded filename\n",
        "if uploaded:\n",
        "    filename = list(uploaded.keys())[0]\n",
        "    print(f\"\\nTesting on: {filename}\")\n",
        "\n",
        "    # Make prediction\n",
        "    !python predict.py --image {filename} --save\n",
        "\n",
        "    # Display result\n",
        "    from IPython.display import Image as IPImage\n",
        "    result_path = f'results/prediction_{filename}'\n",
        "    if os.path.exists(result_path):\n",
        "        display(IPImage(filename=result_path))"
      ]
    },
    {
      "cell_type": "markdown",
      "metadata": {
        "id": "model_info"
      },
      "source": [
        "## 12. Model Information"
      ]
    },
    {
      "cell_type": "code",
      "execution_count": null,
      "metadata": {
        "id": "info"
      },
      "outputs": [],
      "source": [
        "import torch\n",
        "from model import ShapeDetectorCNN\n",
        "\n",
        "# Load model\n",
        "checkpoint = torch.load('models/best_model.pth', map_location='cpu')\n",
        "model = ShapeDetectorCNN(num_classes=4)\n",
        "model.load_state_dict(checkpoint['model_state_dict'])\n",
        "\n",
        "print(\"Model Architecture:\")\n",
        "print(\"=\"*60)\n",
        "print(model)\n",
        "print(\"\\n\" + \"=\"*60)\n",
        "print(f\"Total Parameters: {model.count_parameters():,}\")\n",
        "print(f\"Classes: {checkpoint['class_names']}\")\n",
        "print(f\"Best Validation Accuracy: {checkpoint['val_acc']:.2f}%\")"
      ]
    },
    {
      "cell_type": "markdown",
      "metadata": {
        "id": "download"
      },
      "source": [
        "## 13. Download Trained Model\n",
        "\n",
        "Download the trained model to use locally on your computer"
      ]
    },
    {
      "cell_type": "code",
      "execution_count": null,
      "metadata": {
        "id": "download_model"
      },
      "outputs": [],
      "source": [
        "from google.colab import files\n",
        "import shutil\n",
        "\n",
        "# Create a zip with model and results\n",
        "!zip -r model_and_results.zip models results\n",
        "\n",
        "print(\"Downloading trained model and results...\")\n",
        "files.download('model_and_results.zip')\n",
        "print(\"✓ Download complete!\")"
      ]
    },
    {
      "cell_type": "markdown",
      "metadata": {
        "id": "next_steps"
      },
      "source": [
        "## Next Steps\n",
        "\n",
        "### To use the model locally:\n",
        "1. Extract the downloaded `model_and_results.zip`\n",
        "2. Copy the `models/` folder to your local project\n",
        "3. Run predictions: `python predict.py --image your_image.png`\n",
        "\n",
        "### To improve the model:\n",
        "- Generate more training data (increase `num_samples_per_class`)\n",
        "- Train for more epochs\n",
        "- Add data augmentation\n",
        "- Try different model architectures\n",
        "- Add more shape classes\n",
        "\n",
        "### Resources:\n",
        "- GitHub: https://github.com/RadwanSusan/AI-shape-detector-model\n",
        "- PyTorch Docs: https://pytorch.org/docs/\n",
        "- Colab Docs: https://colab.research.google.com/\n",
        "\n",
        "---\n",
        "**Happy Training! 🎓🚀**"
      ]
    }
  ],
  "metadata": {
    "accelerator": "GPU",
    "colab": {
      "gpuType": "T4",
      "provenance": []
    },
    "kernelspec": {
      "display_name": "Python 3",
      "language": "python",
      "name": "python3"
    },
    "language_info": {
      "codemirror_mode": {
        "name": "ipython",
        "version": 3
      },
      "file_extension": ".py",
      "mimetype": "text/x-python",
      "name": "python",
      "nbconvert_exporter": "python",
      "pygments_lexer": "ipython3",
      "version": "3.10.12"
    }
  },
  "nbformat": 4,
  "nbformat_minor": 0
}