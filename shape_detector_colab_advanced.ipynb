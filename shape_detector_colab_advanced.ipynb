{
 "cells": [
  {
   "cell_type": "markdown",
   "metadata": {
    "id": "header"
   },
   "source": [
    "# 🚀 Advanced Shape Detector - Robust Training\n",
    "\n",
    "This notebook trains a **production-ready** CNN model with:\n",
    "- **40K diverse training images** (10K per class)\n",
    "- **Full RGB colors** with various backgrounds\n",
    "- **Noise & blur effects** for robustness\n",
    "- **Deeper CNN architecture** (5 conv layers)\n",
    "- **Advanced data augmentation**\n",
    "- **50 epochs** with early stopping\n",
    "\n",
    "## Setup Instructions:\n",
    "1. **Enable GPU**: `Runtime` → `Change runtime type` → Select `T4 GPU` → Save\n",
    "2. **Run all cells** (Ctrl+F9)\n",
    "3. Expected training time: **~20-30 minutes total**\n",
    "\n",
    "---"
   ]
  },
  {
   "cell_type": "markdown",
   "metadata": {},
   "source": [
    "## 1. Check GPU Availability"
   ]
  },
  {
   "cell_type": "code",
   "execution_count": null,
   "metadata": {},
   "outputs": [],
   "source": [
    "import torch\n",
    "print(f\"PyTorch version: {torch.__version__}\")\n",
    "print(f\"CUDA available: {torch.cuda.is_available()}\")\n",
    "if torch.cuda.is_available():\n",
    "    print(f\"GPU: {torch.cuda.get_device_name(0)}\")\n",
    "    print(f\"GPU Memory: {torch.cuda.get_device_properties(0).total_memory / 1e9:.2f} GB\")\n",
    "else:\n",
    "    print(\"⚠️ GPU not available. Go to Runtime → Change runtime type → Select GPU\")"
   ]
  },
  {
   "cell_type": "markdown",
   "metadata": {},
   "source": [
    "## 2. Clone Repository"
   ]
  },
  {
   "cell_type": "code",
   "execution_count": null,
   "metadata": {},
   "outputs": [],
   "source": [
    "!git clone https://github.com/RadwanSusan/AI-shape-detector-model.git\n",
    "%cd AI-shape-detector-model"
   ]
  },
  {
   "cell_type": "markdown",
   "metadata": {},
   "source": [
    "## 3. Install Dependencies"
   ]
  },
  {
   "cell_type": "code",
   "execution_count": null,
   "metadata": {},
   "outputs": [],
   "source": [
    "!pip install -q -r requirements.txt\n",
    "print(\"✓ Dependencies installed!\")"
   ]
  },
  {
   "cell_type": "markdown",
   "metadata": {},
   "source": [
    "## 4. Generate Advanced Dataset (40K Images)\n",
    "\n",
    "This generates **10,000 images per class** with:\n",
    "- Full RGB colors\n",
    "- Multiple background types (solid, gradient, noisy, textured)\n",
    "- Noise effects (Gaussian, salt & pepper)\n",
    "- Blur effects\n",
    "- Full 360° rotations\n",
    "- Contrast/brightness variations\n",
    "\n",
    "**Time: ~10-15 minutes**"
   ]
  },
  {
   "cell_type": "code",
   "execution_count": null,
   "metadata": {},
   "outputs": [],
   "source": [
    "%cd src\n",
    "!python generate_advanced_data.py\n",
    "print(\"\\n✓ Advanced dataset generated!\")"
   ]
  },
  {
   "cell_type": "markdown",
   "metadata": {},
   "source": [
    "## 5. Preview Sample Images\n",
    "\n",
    "View examples from the generated dataset"
   ]
  },
  {
   "cell_type": "code",
   "execution_count": null,
   "metadata": {},
   "outputs": [],
   "source": [
    "import matplotlib.pyplot as plt\n",
    "from PIL import Image\n",
    "import glob\n",
    "import random\n",
    "\n",
    "shapes = ['circle', 'square', 'triangle', 'rectangle']\n",
    "fig, axes = plt.subplots(4, 4, figsize=(16, 16))\n",
    "\n",
    "for row, shape in enumerate(shapes):\n",
    "    shape_dir = f'data/train/{shape}'\n",
    "    image_files = glob.glob(f'{shape_dir}/*.png')\n",
    "    \n",
    "    # Show 4 random samples per shape\n",
    "    samples = random.sample(image_files, min(4, len(image_files)))\n",
    "    \n",
    "    for col, img_path in enumerate(samples):\n",
    "        img = Image.open(img_path)\n",
    "        axes[row, col].imshow(img)\n",
    "        if col == 0:\n",
    "            axes[row, col].set_ylabel(shape.upper(), fontsize=14, fontweight='bold')\n",
    "        axes[row, col].axis('off')\n",
    "\n",
    "plt.suptitle('Advanced Dataset Samples (Notice: Colors, Backgrounds, Noise, Rotations)',\n",
    "             fontsize=16, fontweight='bold')\n",
    "plt.tight_layout()\n",
    "plt.show()"
   ]
  },
  {
   "cell_type": "markdown",
   "metadata": {},
   "source": [
    "## 6. Train Advanced Model\n",
    "\n",
    "Training configuration:\n",
    "- **Model**: Deeper CNN (5 conv layers, 32→64→128→256→512 filters)\n",
    "- **Epochs**: 50 (with early stopping)\n",
    "- **Batch size**: 64\n",
    "- **Data augmentation**: Enabled\n",
    "- **Learning rate scheduling**: ReduceLROnPlateau + CosineAnnealing\n",
    "- **Regularization**: Dropout (0.6) + L2 weight decay\n",
    "\n",
    "**Expected time: ~8-12 minutes with GPU**"
   ]
  },
  {
   "cell_type": "code",
   "execution_count": null,
   "metadata": {},
   "outputs": [],
   "source": [
    "!python train_advanced.py\n",
    "print(\"\\n✓ Training complete!\")"
   ]
  },
  {
   "cell_type": "markdown",
   "metadata": {},
   "source": [
    "## 7. View Training History"
   ]
  },
  {
   "cell_type": "code",
   "execution_count": null,
   "metadata": {},
   "outputs": [],
   "source": [
    "from IPython.display import Image as IPImage\n",
    "display(IPImage(filename='results/training_history_advanced.png'))"
   ]
  },
  {
   "cell_type": "markdown",
   "metadata": {},
   "source": [
    "## 8. Comprehensive Evaluation\n",
    "\n",
    "Evaluate with:\n",
    "- Overall accuracy\n",
    "- Per-class metrics (precision, recall, F1-score)\n",
    "- Confusion matrix\n",
    "- Confidence score analysis\n",
    "- Error analysis"
   ]
  },
  {
   "cell_type": "code",
   "execution_count": null,
   "metadata": {},
   "outputs": [],
   "source": [
    "!python evaluate_advanced.py"
   ]
  },
  {
   "cell_type": "markdown",
   "metadata": {},
   "source": [
    "## 9. View Evaluation Results"
   ]
  },
  {
   "cell_type": "code",
   "execution_count": null,
   "metadata": {},
   "outputs": [],
   "source": [
    "from IPython.display import Image as IPImage\n",
    "\n",
    "print(\"Confusion Matrix:\")\n",
    "display(IPImage(filename='results/confusion_matrix_advanced.png'))\n",
    "\n",
    "print(\"\\nConfidence Score Distribution:\")\n",
    "display(IPImage(filename='results/confidence_distribution.png'))\n",
    "\n",
    "print(\"\\nSample Predictions:\")\n",
    "display(IPImage(filename='results/sample_predictions_advanced.png'))"
   ]
  },
  {
   "cell_type": "markdown",
   "metadata": {},
   "source": [
    "## 10. Test on Difficult Examples\n",
    "\n",
    "Create and test on challenging images"
   ]
  },
  {
   "cell_type": "code",
   "execution_count": null,
   "metadata": {},
   "outputs": [],
   "source": [
    "# Test on test set samples\n",
    "!python predict.py --dir data/test/circle --save\n",
    "\n",
    "from IPython.display import Image as IPImage\n",
    "display(IPImage(filename='results/predictions/batch_predictions.png'))"
   ]
  },
  {
   "cell_type": "markdown",
   "metadata": {},
   "source": [
    "## 11. Upload & Test Your Own Images"
   ]
  },
  {
   "cell_type": "code",
   "execution_count": null,
   "metadata": {},
   "outputs": [],
   "source": [
    "from google.colab import files\n",
    "import os\n",
    "\n",
    "print(\"Upload an image with a shape (circle, square, triangle, or rectangle):\")\n",
    "uploaded = files.upload()\n",
    "\n",
    "if uploaded:\n",
    "    filename = list(uploaded.keys())[0]\n",
    "    print(f\"\\nTesting on: {filename}\")\n",
    "    \n",
    "    # Make prediction with advanced model\n",
    "    !python predict.py --image {filename} --model models/best_model_advanced.pth --save\n",
    "    \n",
    "    from IPython.display import Image as IPImage\n",
    "    result_path = f'results/prediction_{filename}'\n",
    "    if os.path.exists(result_path):\n",
    "        display(IPImage(filename=result_path))"
   ]
  },
  {
   "cell_type": "markdown",
   "metadata": {},
   "source": [
    "## 12. Model Information & Comparison"
   ]
  },
  {
   "cell_type": "code",
   "execution_count": null,
   "metadata": {},
   "outputs": [],
   "source": [
    "import torch\n",
    "from model_advanced import SimpleAdvancedCNN\n",
    "\n",
    "# Load advanced model\n",
    "checkpoint = torch.load('models/best_model_advanced.pth', map_location='cpu')\n",
    "model = SimpleAdvancedCNN(num_classes=4)\n",
    "model.load_state_dict(checkpoint['model_state_dict'])\n",
    "\n",
    "print(\"Advanced Model Architecture:\")\n",
    "print(\"=\"*60)\n",
    "print(model)\n",
    "print(\"\\n\" + \"=\"*60)\n",
    "print(f\"Total Parameters: {model.count_parameters():,}\")\n",
    "print(f\"Classes: {checkpoint['class_names']}\")\n",
    "print(f\"Best Validation Accuracy: {checkpoint['val_acc']:.2f}%\")\n",
    "print(f\"Model Type: {checkpoint.get('model_type', 'simple')}\")\n",
    "\n",
    "# Compare with basic model if available\n",
    "import os\n",
    "if os.path.exists('models/best_model.pth'):\n",
    "    print(\"\\n\" + \"=\"*60)\n",
    "    print(\"COMPARISON WITH BASIC MODEL:\")\n",
    "    print(\"=\"*60)\n",
    "    basic_checkpoint = torch.load('models/best_model.pth', map_location='cpu')\n",
    "    print(f\"Basic Model Val Acc: {basic_checkpoint.get('val_acc', 'N/A')}\")\n",
    "    print(f\"Advanced Model Val Acc: {checkpoint['val_acc']:.2f}%\")\n",
    "    if 'val_acc' in basic_checkpoint:\n",
    "        improvement = checkpoint['val_acc'] - basic_checkpoint['val_acc']\n",
    "        print(f\"Improvement: +{improvement:.2f}%\")"
   ]
  },
  {
   "cell_type": "markdown",
   "metadata": {},
   "source": [
    "## 13. Download Trained Model\n",
    "\n",
    "Download the advanced model and all results"
   ]
  },
  {
   "cell_type": "code",
   "execution_count": null,
   "metadata": {},
   "outputs": [],
   "source": [
    "from google.colab import files\n",
    "\n",
    "# Create comprehensive zip\n",
    "!zip -r model_advanced_complete.zip models results\n",
    "\n",
    "print(\"Downloading advanced model and results...\")\n",
    "files.download('model_advanced_complete.zip')\n",
    "print(\"✓ Download complete!\")"
   ]
  },
  {
   "cell_type": "markdown",
   "metadata": {},
   "source": [
    "## 📊 Expected Results\n",
    "\n",
    "### Performance Comparison:\n",
    "\n",
    "| Metric | Basic Model | Advanced Model |\n",
    "|--------|-------------|----------------|\n",
    "| Dataset Size | 6K images | 40K images |\n",
    "| Image Variations | Limited (grayscale) | Extensive (RGB, noise, blur) |\n",
    "| Model Depth | 3 layers | 5 layers |\n",
    "| Training Epochs | 5 | 50 (with early stopping) |\n",
    "| **Clean Data Accuracy** | ~92% | **95-98%** |\n",
    "| **Noisy Data Accuracy** | ~60-70% | **85-92%** |\n",
    "| **Real-World Ready** | ❌ | ✅ |\n",
    "\n",
    "### Key Improvements:\n",
    "- ✅ Handles diverse colors and backgrounds\n",
    "- ✅ Robust to noise and blur\n",
    "- ✅ Works with full 360° rotations\n",
    "- ✅ Better generalization to real-world images\n",
    "- ✅ Higher confidence scores\n",
    "- ✅ Production-ready model\n",
    "\n",
    "---\n",
    "\n",
    "## 🔧 Next Steps\n",
    "\n",
    "### To use locally:\n",
    "1. Extract `model_advanced_complete.zip`\n",
    "2. Copy models to your local project\n",
    "3. Run: `python predict.py --image test.png --model models/best_model_advanced.pth`\n",
    "\n",
    "### To improve further:\n",
    "- Increase to 20K samples per class (80K total)\n",
    "- Try ResNet/EfficientNet architectures\n",
    "- Add more shape classes (pentagon, hexagon, star)\n",
    "- Train on real-world images\n",
    "- Deploy as web API or mobile app\n",
    "\n",
    "### Resources:\n",
    "- GitHub: https://github.com/RadwanSusan/AI-shape-detector-model\n",
    "- PyTorch: https://pytorch.org/docs/\n",
    "- Colab: https://colab.research.google.com/\n",
    "\n",
    "---\n",
    "**🎉 Congratulations! You've built a production-ready shape detector!**"
   ]
  }
 ],
 "metadata": {
  "accelerator": "GPU",
  "colab": {
   "gpuType": "T4",
   "provenance": []
  },
  "kernelspec": {
   "display_name": "Python 3",
   "language": "python",
   "name": "python3"
  }
 },
 "nbformat": 4,
 "nbformat_minor": 0
}
